{
  "cells": [
    {
      "metadata": {},
      "cell_type": "markdown",
      "source": "# Imports"
    },
    {
      "metadata": {
        "trusted": true
      },
      "cell_type": "code",
      "source": "from tensorflow.keras.models import Sequential\nfrom tensorflow.keras.layers import Activation, Dropout, Dense, Conv2D, Flatten, Dropout, MaxPooling2D, BatchNormalization\nfrom keras import backend as K\nfrom tensorflow.keras.preprocessing.image import ImageDataGenerator\n\nimport os\nimport numpy as np\nimport matplotlib.pyplot as plt",
      "execution_count": 12,
      "outputs": []
    },
    {
      "metadata": {},
      "cell_type": "markdown",
      "source": "## Image Generator configuration"
    },
    {
      "metadata": {
        "trusted": true
      },
      "cell_type": "code",
      "source": "train_datagen = ImageDataGenerator(\n        rescale=1./255,\n        shear_range=0.2,\n        zoom_range=0.2,\n        horizontal_flip=True)",
      "execution_count": 3,
      "outputs": []
    },
    {
      "metadata": {
        "trusted": true
      },
      "cell_type": "code",
      "source": "test_datagen = ImageDataGenerator(rescale=1./255)",
      "execution_count": 4,
      "outputs": []
    },
    {
      "metadata": {
        "trusted": true
      },
      "cell_type": "code",
      "source": "train_generator = train_datagen.flow_from_directory(\n        'pokemones/train',\n        target_size=(150, 150),\n        batch_size=32,\n        class_mode='binary')",
      "execution_count": 5,
      "outputs": [
        {
          "output_type": "stream",
          "text": "Found 16 images belonging to 3 classes.\n",
          "name": "stdout"
        }
      ]
    },
    {
      "metadata": {
        "trusted": true,
        "scrolled": true
      },
      "cell_type": "code",
      "source": "validation_generator = test_datagen.flow_from_directory(\n        'pokemones/validation',\n        target_size=(150, 150),\n        batch_size=32,\n        class_mode='binary')",
      "execution_count": 7,
      "outputs": [
        {
          "output_type": "stream",
          "text": "Found 0 images belonging to 0 classes.\n",
          "name": "stdout"
        }
      ]
    },
    {
      "metadata": {},
      "cell_type": "markdown",
      "source": "## Model construction"
    },
    {
      "metadata": {
        "trusted": true
      },
      "cell_type": "code",
      "source": "class SmallerVGGNet:\n    @staticmethod\n    def build(width, height, depth, classes):\n        model = Sequential()\n        inputShape = (height, width, depth)\n        chanDim = -1\n        \n        if K.image_data_format() == \"channels_first\":\n            inputShape = (depth, height, width)\n            chanDim = 1",
      "execution_count": 1,
      "outputs": []
    },
    {
      "metadata": {
        "trusted": true
      },
      "cell_type": "code",
      "source": "K.image_data_format()",
      "execution_count": 27,
      "outputs": [
        {
          "output_type": "execute_result",
          "execution_count": 27,
          "data": {
            "text/plain": "'channels_last'"
          },
          "metadata": {}
        }
      ]
    },
    {
      "metadata": {},
      "cell_type": "markdown",
      "source": "Channels_last mean \"Height, Width, Channels or Depth\""
    },
    {
      "metadata": {
        "trusted": true
      },
      "cell_type": "code",
      "source": "# Conv -> Relu -> Pool\nmodel = Sequential()\nmodel.add(\n    Conv2D(32, (3,3), padding=\"same\",\n          input_shape=(150, 150,3))\n)\nmodel.add(Activation(\"relu\"))\nmodel.add(BatchNormalization(axis=1)) # Import BatchNormalization as Keras layer\nmodel.add(MaxPooling2D(pool_size =(3,3)))\nmodel.add(Dropout(0.25))\n",
      "execution_count": 30,
      "outputs": []
    },
    {
      "metadata": {
        "trusted": true
      },
      "cell_type": "code",
      "source": "# (Conv -> Relu ) * 2 -> Pool\nmodel.add(\n    Conv2D(64, (3,3), padding=\"same\" )\n)\nmodel.add(Activation(\"relu\"))\nmodel.add(BatchNormalization(axis=1))\nmodel.add(MaxPooling2D(pool_size=(2,2)))\nmodel.add(Dropout(0.25))",
      "execution_count": 32,
      "outputs": []
    },
    {
      "metadata": {
        "trusted": true
      },
      "cell_type": "code",
      "source": "# First (and only) set of FC -> RELU layers\nmodel.add(Flatten())\nmodel.add(Dense(1024))\nmodel.add(Activation(\"relu\"))\nmodel.add(BatchNormalization())\nmodel.add(Dropout(0.5))\n\n#softmax classifier\nmodel.add(Dense(3))\nmodel.add(Activation(\"softmax\"))",
      "execution_count": 35,
      "outputs": []
    },
    {
      "metadata": {
        "trusted": true
      },
      "cell_type": "code",
      "source": "",
      "execution_count": null,
      "outputs": []
    },
    {
      "metadata": {
        "trusted": true
      },
      "cell_type": "code",
      "source": "",
      "execution_count": null,
      "outputs": []
    }
  ],
  "metadata": {
    "kernelspec": {
      "name": "python36",
      "display_name": "Python 3.6",
      "language": "python"
    },
    "language_info": {
      "mimetype": "text/x-python",
      "nbconvert_exporter": "python",
      "name": "python",
      "pygments_lexer": "ipython3",
      "version": "3.6.6",
      "file_extension": ".py",
      "codemirror_mode": {
        "version": 3,
        "name": "ipython"
      }
    }
  },
  "nbformat": 4,
  "nbformat_minor": 2
}